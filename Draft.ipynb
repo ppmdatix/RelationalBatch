{
 "cells": [
  {
   "cell_type": "code",
   "execution_count": 134,
   "id": "eeced768",
   "metadata": {},
   "outputs": [],
   "source": [
    "from create_model import create_model\n",
    "import torch\n",
    "import torch.nn.utils.prune as prune\n",
    "import numpy as np\n",
    "import torch.nn as nn\n",
    "\n",
    "from copy import deepcopy as deepcopy"
   ]
  },
  {
   "cell_type": "code",
   "execution_count": 112,
   "id": "588ab485",
   "metadata": {},
   "outputs": [],
   "source": [
    "X = np.zeros((10,12)) "
   ]
  },
  {
   "cell_type": "code",
   "execution_count": 113,
   "id": "bb2898df",
   "metadata": {},
   "outputs": [],
   "source": [
    "model, optimizer, loss_fn = create_model(X)"
   ]
  },
  {
   "cell_type": "code",
   "execution_count": 114,
   "id": "c7da03de",
   "metadata": {},
   "outputs": [],
   "source": [
    "parameters = list(model.named_parameters())"
   ]
  },
  {
   "cell_type": "code",
   "execution_count": 118,
   "id": "3699fddb",
   "metadata": {},
   "outputs": [],
   "source": [
    "t = parameters[0]"
   ]
  },
  {
   "cell_type": "code",
   "execution_count": 120,
   "id": "f704b05b",
   "metadata": {},
   "outputs": [
    {
     "data": {
      "text/plain": [
       "<bound method Module.named_parameters of MLP(\n",
       "  (blocks): Sequential(\n",
       "    (0): Block(\n",
       "      (linear): Linear(in_features=12, out_features=4, bias=True)\n",
       "      (activation): ReLU()\n",
       "      (dropout): Dropout(p=0.1, inplace=False)\n",
       "    )\n",
       "    (1): Block(\n",
       "      (linear): Linear(in_features=4, out_features=8, bias=True)\n",
       "      (activation): ReLU()\n",
       "      (dropout): Dropout(p=0.1, inplace=False)\n",
       "    )\n",
       "    (2): Block(\n",
       "      (linear): Linear(in_features=8, out_features=4, bias=True)\n",
       "      (activation): ReLU()\n",
       "      (dropout): Dropout(p=0.1, inplace=False)\n",
       "    )\n",
       "  )\n",
       "  (head): Linear(in_features=4, out_features=1, bias=True)\n",
       ")>"
      ]
     },
     "execution_count": 120,
     "metadata": {},
     "output_type": "execute_result"
    }
   ],
   "source": [
    "model.named_parameters"
   ]
  },
  {
   "cell_type": "code",
   "execution_count": 121,
   "id": "64ae5f24",
   "metadata": {},
   "outputs": [],
   "source": [
    "test =  nn.Conv2d(5, 3, 2)"
   ]
  },
  {
   "cell_type": "code",
   "execution_count": 133,
   "id": "b03e6d81",
   "metadata": {},
   "outputs": [],
   "source": [
    "list(test.named_parameters())[0][1].grad"
   ]
  },
  {
   "cell_type": "code",
   "execution_count": null,
   "id": "2f0da127",
   "metadata": {},
   "outputs": [],
   "source": [
    "def save_before_step(theta, grad):\n",
    "    "
   ]
  },
  {
   "cell_type": "code",
   "execution_count": 128,
   "id": "7b5ce786",
   "metadata": {},
   "outputs": [
    {
     "data": {
      "text/plain": [
       "tensor([[ 0.2489,  0.1719,  0.2260, -0.1490,  0.1997,  0.2757, -0.0815, -0.0803,\n",
       "         -0.1574, -0.2619,  0.0840,  0.0667],\n",
       "        [ 0.2055,  0.0542,  0.1126,  0.0545,  0.1351, -0.1481,  0.1177,  0.0299,\n",
       "          0.0538, -0.2755, -0.0453,  0.2380],\n",
       "        [-0.0589,  0.2636,  0.1324,  0.2421,  0.1718,  0.2775,  0.1874,  0.1662,\n",
       "          0.1811,  0.1737,  0.0603,  0.1692],\n",
       "        [ 0.1241,  0.2064, -0.0653,  0.1505,  0.2868, -0.0273, -0.1765, -0.2356,\n",
       "          0.2621,  0.0063,  0.2455, -0.2279]], grad_fn=<SWhereBackward>)"
      ]
     },
     "execution_count": 128,
     "metadata": {},
     "output_type": "execute_result"
    }
   ],
   "source": [
    "grad = t[1]\n",
    "y = torch.zeros_like(x)\n",
    "torch.where(grad != 0, x, y)"
   ]
  },
  {
   "cell_type": "code",
   "execution_count": 109,
   "id": "99efb7d6",
   "metadata": {},
   "outputs": [
    {
     "data": {
      "text/plain": [
       "Parameter containing:\n",
       "tensor([[0., 0., 0., 0., 0., 0., 0., 0., 0., 0., 0., 0.],\n",
       "        [0., 0., 0., 0., 0., 0., 0., 0., 0., 0., 0., 0.],\n",
       "        [0., 0., 0., 0., 0., 0., 0., 0., 0., 0., 0., 0.],\n",
       "        [0., 0., 0., 0., 0., 0., 0., 0., 0., 0., 0., 0.]], requires_grad=True)"
      ]
     },
     "execution_count": 109,
     "metadata": {},
     "output_type": "execute_result"
    }
   ],
   "source": [
    "t[1]"
   ]
  },
  {
   "cell_type": "code",
   "execution_count": null,
   "id": "2f48c002",
   "metadata": {},
   "outputs": [],
   "source": []
  }
 ],
 "metadata": {
  "kernelspec": {
   "display_name": "Python 3",
   "language": "python",
   "name": "python3"
  },
  "language_info": {
   "codemirror_mode": {
    "name": "ipython",
    "version": 3
   },
   "file_extension": ".py",
   "mimetype": "text/x-python",
   "name": "python",
   "nbconvert_exporter": "python",
   "pygments_lexer": "ipython3",
   "version": "3.8.8"
  }
 },
 "nbformat": 4,
 "nbformat_minor": 5
}
