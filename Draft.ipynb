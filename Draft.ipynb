{
 "cells": [
  {
   "cell_type": "code",
   "execution_count": 1,
   "id": "eeced768",
   "metadata": {},
   "outputs": [],
   "source": [
    "from create_model import create_model\n",
    "import torch\n",
    "import torch.nn.utils.prune as prune\n",
    "import numpy as np\n",
    "import torch.nn as nn\n",
    "from learn_that import apply_model\n",
    "\n",
    "import torch.nn.functional as F\n",
    "\n",
    "from copy import deepcopy as deepcopy"
   ]
  },
  {
   "cell_type": "code",
   "execution_count": 2,
   "id": "b6a1780f",
   "metadata": {},
   "outputs": [],
   "source": [
    "datasize = 2\n",
    "inputSize = 3\n",
    "middle = 1"
   ]
  },
  {
   "cell_type": "code",
   "execution_count": 3,
   "id": "560bc7a3",
   "metadata": {},
   "outputs": [],
   "source": [
    "np.random.seed(13)"
   ]
  },
  {
   "cell_type": "code",
   "execution_count": 4,
   "id": "588ab485",
   "metadata": {},
   "outputs": [],
   "source": [
    "X = 0.5-np.random.random((datasize, inputSize)) \n",
    "\n",
    "# TEST\n",
    "X[1] = X[0]\n",
    "# X = np.where(X == np.max(X), 1, 1)#np.zeros_like(X))\n",
    "Y = 17 * np.random.random(datasize)"
   ]
  },
  {
   "cell_type": "markdown",
   "id": "8fc6fe84",
   "metadata": {},
   "source": [
    "This is md"
   ]
  },
  {
   "cell_type": "code",
   "execution_count": 5,
   "id": "70a76da4",
   "metadata": {},
   "outputs": [],
   "source": [
    "optim = \"sparse_adam\" # \"adam\""
   ]
  },
  {
   "cell_type": "code",
   "execution_count": 6,
   "id": "bb2898df",
   "metadata": {},
   "outputs": [],
   "source": [
    "torch.manual_seed(0)\n",
    "model, optimizer, loss_fn = create_model(X, optim=optim, lr=1,task_type=\"regression\", dropout=0.0,middle_layers=middle, first_layer=inputSize)"
   ]
  },
  {
   "cell_type": "code",
   "execution_count": 7,
   "id": "ea9dbda8",
   "metadata": {},
   "outputs": [],
   "source": [
    "tx = torch.tensor(X)\n",
    "tx = torch.max(tx, torch.zeros_like(tx))\n",
    "ty = torch.tensor(Y)"
   ]
  },
  {
   "cell_type": "code",
   "execution_count": 8,
   "id": "14a2dacf",
   "metadata": {},
   "outputs": [
    {
     "data": {
      "text/plain": [
       "tensor([[0.0000, 0.2625, 0.0000],\n",
       "        [0.0000, 0.2625, 0.0000]], dtype=torch.float64)"
      ]
     },
     "execution_count": 8,
     "metadata": {},
     "output_type": "execute_result"
    }
   ],
   "source": [
    "tx\n"
   ]
  },
  {
   "cell_type": "code",
   "execution_count": 9,
   "id": "764818a1",
   "metadata": {},
   "outputs": [],
   "source": [
    "tx, ty = tx.type(torch.FloatTensor), ty.type(torch.FloatTensor)"
   ]
  },
  {
   "cell_type": "code",
   "execution_count": 10,
   "id": "1eb2ef7c",
   "metadata": {},
   "outputs": [
    {
     "name": "stdout",
     "output_type": "stream",
     "text": [
      "\n",
      "torch.Size([3, 3])\n",
      "Parameter containing:\n",
      "tensor([[-0.0043,  0.3097, -0.4752],\n",
      "        [-0.4249, -0.2224,  0.1548],\n",
      "        [-0.0114,  0.4578, -0.0512]], requires_grad=True)\n",
      "\n",
      "torch.Size([3])\n",
      "Parameter containing:\n",
      "tensor([ 0.1528, -0.1745, -0.1135], requires_grad=True)\n",
      "\n",
      "torch.Size([1, 3])\n",
      "Parameter containing:\n",
      "tensor([[-0.5516, -0.3824, -0.2380]], requires_grad=True)\n",
      "\n",
      "torch.Size([1])\n",
      "Parameter containing:\n",
      "tensor([0.0214], requires_grad=True)\n",
      "\n",
      "torch.Size([3, 1])\n",
      "Parameter containing:\n",
      "tensor([[ 0.3953],\n",
      "        [ 0.6000],\n",
      "        [-0.6779]], requires_grad=True)\n",
      "\n",
      "torch.Size([3])\n",
      "Parameter containing:\n",
      "tensor([-0.4355,  0.3632,  0.8304], requires_grad=True)\n",
      "\n",
      "torch.Size([1, 3])\n",
      "Parameter containing:\n",
      "tensor([[-0.1188,  0.4320, -0.0931]], requires_grad=True)\n",
      "\n",
      "torch.Size([1])\n",
      "Parameter containing:\n",
      "tensor([0.0611], requires_grad=True)\n"
     ]
    }
   ],
   "source": [
    "parameters = list(model.named_parameters())\n",
    "t = parameters[0]\n",
    "arr = deepcopy(t[1].cpu().detach().numpy())\n",
    "for p in parameters:\n",
    "    print()\n",
    "    print(p[1].shape)\n",
    "    print(p[1])"
   ]
  },
  {
   "cell_type": "code",
   "execution_count": 11,
   "id": "7a7bfadb",
   "metadata": {},
   "outputs": [],
   "source": [
    "loss = loss_fn(apply_model(tx, model=model).squeeze(1), ty)\n",
    "\n",
    "bwd = loss.backward()"
   ]
  },
  {
   "cell_type": "code",
   "execution_count": 12,
   "id": "928ae848",
   "metadata": {},
   "outputs": [],
   "source": [
    "for p in model.parameters():\n",
    "    if optim == \"sparse_adam\":\n",
    "        p.grad = p.grad.to_sparse() "
   ]
  },
  {
   "cell_type": "code",
   "execution_count": 13,
   "id": "900d3071",
   "metadata": {},
   "outputs": [],
   "source": [
    "optimizer.step()\n",
    "# optimizer.step(bwd)"
   ]
  },
  {
   "cell_type": "code",
   "execution_count": 14,
   "id": "8a90d762",
   "metadata": {},
   "outputs": [
    {
     "name": "stdout",
     "output_type": "stream",
     "text": [
      "\n",
      "blocks.0.linear.weight\n",
      "Parameter containing:\n",
      "tensor([[-0.0043,  0.3097, -0.4752],\n",
      "        [-0.4249, -0.2224,  0.1548],\n",
      "        [-0.0114,  0.4578, -0.0512]], requires_grad=True)\n",
      "blocks.0.linear.bias\n",
      "Parameter containing:\n",
      "tensor([ 0.1528, -0.1745, -0.1135], requires_grad=True)\n",
      "blocks.1.linear.weight\n",
      "Parameter containing:\n",
      "tensor([[-0.5516, -0.3824, -0.2380]], requires_grad=True)\n",
      "blocks.1.linear.bias\n",
      "Parameter containing:\n",
      "tensor([0.0214], requires_grad=True)\n",
      "blocks.2.linear.weight\n",
      "Parameter containing:\n",
      "tensor([[ 0.3953],\n",
      "        [ 0.6000],\n",
      "        [-0.6779]], requires_grad=True)\n",
      "blocks.2.linear.bias\n",
      "Parameter containing:\n",
      "tensor([-0.4355,  1.3632, -0.1696], requires_grad=True)\n",
      "head.weight\n",
      "Parameter containing:\n",
      "tensor([[-0.1188,  1.4320,  0.9069]], requires_grad=True)\n",
      "head.bias\n",
      "Parameter containing:\n",
      "tensor([1.0611], requires_grad=True)\n"
     ]
    }
   ],
   "source": [
    "parameters = list(model.named_parameters())\n",
    "print(\"\")\n",
    "for p in parameters:\n",
    "    print(p[0])\n",
    "    print(p[1])"
   ]
  },
  {
   "cell_type": "code",
   "execution_count": 15,
   "id": "c7da03de",
   "metadata": {},
   "outputs": [],
   "source": [
    "parameters = list(model.named_parameters())\n",
    "t = parameters[0]\n",
    "arr2 = deepcopy(t[1].cpu().detach().numpy())\n"
   ]
  },
  {
   "cell_type": "code",
   "execution_count": 16,
   "id": "220e4272",
   "metadata": {},
   "outputs": [
    {
     "data": {
      "text/plain": [
       "array([[ True,  True,  True],\n",
       "       [ True,  True,  True],\n",
       "       [ True,  True,  True]])"
      ]
     },
     "execution_count": 16,
     "metadata": {},
     "output_type": "execute_result"
    }
   ],
   "source": [
    "arr == arr2"
   ]
  },
  {
   "cell_type": "code",
   "execution_count": null,
   "id": "1e19e823",
   "metadata": {},
   "outputs": [],
   "source": []
  }
 ],
 "metadata": {
  "kernelspec": {
   "display_name": "Python 3",
   "language": "python",
   "name": "python3"
  },
  "language_info": {
   "codemirror_mode": {
    "name": "ipython",
    "version": 3
   },
   "file_extension": ".py",
   "mimetype": "text/x-python",
   "name": "python",
   "nbconvert_exporter": "python",
   "pygments_lexer": "ipython3",
   "version": "3.8.8"
  }
 },
 "nbformat": 4,
 "nbformat_minor": 5
}
