{
 "cells": [
  {
   "cell_type": "code",
   "execution_count": 9,
   "id": "042c1183",
   "metadata": {},
   "outputs": [],
   "source": [
    "import pandas as pd\n",
    "import os\n",
    "import numpy as np"
   ]
  },
  {
   "cell_type": "code",
   "execution_count": 10,
   "id": "79ed3bc7",
   "metadata": {},
   "outputs": [],
   "source": [
    "def pathMaker(model, optim, size,boolean):\n",
    "    return \"model%swithOptimoo%s-epochs10-batch-size%s-relational-batch%s.csv\" % (model, optim, size,boolean)"
   ]
  },
  {
   "cell_type": "code",
   "execution_count": 28,
   "id": "1fcaf79b",
   "metadata": {
    "scrolled": false
   },
   "outputs": [
    {
     "name": "stdout",
     "output_type": "stream",
     "text": [
      "\n",
      "size: 32\n",
      "\n",
      "model: resnet\n",
      "Adult_Income & \n",
      "0.41 $\\pm$ 0.01 & 0.33 $\\pm$ 0.01 & 0.13 $\\pm$ 0.01 & 0.13 $\\pm$ 0.01 \\\\\n",
      "compas & \n",
      "0.48 $\\pm$ 0.01 & 0.56 $\\pm$ 0.01 & 0.07 $\\pm$ 0.02 & 0.05 $\\pm$ 0.03 \\\\\n",
      "Dont_Get_Kicked & \n",
      "0.23 $\\pm$ 0.01 & 0.25 $\\pm$ 0.01 & 0.13 $\\pm$ 0.01 & 0.11 $\\pm$ 0.01 \\\\\n",
      "Forest_Cover & \n",
      "2.03 $\\pm$ 0.01 & 1.98 $\\pm$ 0.01 & 1.13 $\\pm$ 0.05 & 1.06 $\\pm$ 0.01 \\\\\n",
      "KDD99 & \n",
      "3.23 $\\pm$ 0.01 & 3.16 $\\pm$ 0.01 & 0.07 $\\pm$ 0.01 & 0.06 $\\pm$ 0.01 \\\\\n",
      "Usedcarscatalog & \n",
      "1.12 $\\pm$ 0.01 & 1.26 $\\pm$ 0.01 & 0.73 $\\pm$ 0.01 & 0.72 $\\pm$ 0.01 \\\\\n",
      "\n",
      "model: mlp\n",
      "Adult_Income & \n",
      "0.56 $\\pm$ 0.01 & 0.21 $\\pm$ 0.01 & 0.47 $\\pm$ 0.03 & 0.14 $\\pm$ 0.01 \\\\\n",
      "compas & \n",
      "0.38 $\\pm$ 0.01 & 1.36 $\\pm$ 0.01 & 0.34 $\\pm$ 0.01 & 0.93 $\\pm$ 0.24 \\\\\n",
      "Dont_Get_Kicked & \n",
      "0.33 $\\pm$ 0.01 & 0.16 $\\pm$ 0.01 & 0.27 $\\pm$ 0.02 & 0.10 $\\pm$ 0.01 \\\\\n",
      "Forest_Cover & \n",
      "2.02 $\\pm$ 0.01 & 1.99 $\\pm$ 0.01 & 2.00 $\\pm$ 0.01 & 1.91 $\\pm$ 0.07 \\\\\n",
      "KDD99 & \n",
      "3.21 $\\pm$ 0.01 & 3.00 $\\pm$ 0.01 & 2.02 $\\pm$ 0.67 & 0.40 $\\pm$ 0.16 \\\\\n",
      "Usedcarscatalog & \n",
      "1.25 $\\pm$ 0.01 & 1.06 $\\pm$ 0.01 & 1.13 $\\pm$ 0.02 & 0.87 $\\pm$ 0.04 \\\\\n",
      "\n",
      "size: 128\n",
      "\n",
      "model: resnet\n",
      "Adult_Income & \n",
      "0.90 $\\pm$ 0.01 & 0.82 $\\pm$ 0.01 & 0.13 $\\pm$ 0.01 & 0.13 $\\pm$ 0.01 \\\\\n",
      "compas & \n",
      "0.51 $\\pm$ 0.01 & 0.53 $\\pm$ 0.01 & 0.07 $\\pm$ 0.01 & 0.04 $\\pm$ 0.02 \\\\\n",
      "Dont_Get_Kicked & \n",
      "0.21 $\\pm$ 0.01 & 0.23 $\\pm$ 0.01 & 0.13 $\\pm$ 0.01 & 0.12 $\\pm$ 0.01 \\\\\n",
      "Forest_Cover & \n",
      "2.01 $\\pm$ 0.01 & 2.08 $\\pm$ 0.01 & 1.12 $\\pm$ 0.05 & 1.05 $\\pm$ 0.01 \\\\\n",
      "KDD99 & \n",
      "3.05 $\\pm$ 0.01 & 3.13 $\\pm$ 0.01 & 0.07 $\\pm$ 0.01 & 0.05 $\\pm$ 0.01 \\\\\n",
      "Usedcarscatalog & \n",
      "1.14 $\\pm$ 0.01 & 1.16 $\\pm$ 0.01 & 0.77 $\\pm$ 0.01 & 0.75 $\\pm$ 0.01 \\\\\n",
      "\n",
      "model: mlp\n",
      "Adult_Income & \n",
      "0.50 $\\pm$ 0.01 & 0.35 $\\pm$ 0.01 & 0.29 $\\pm$ 0.05 & 0.15 $\\pm$ 0.01 \\\\\n",
      "compas & \n",
      "0.37 $\\pm$ 0.01 & 0.71 $\\pm$ 0.01 & 0.32 $\\pm$ 0.02 & 0.45 $\\pm$ 0.16 \\\\\n",
      "Dont_Get_Kicked & \n",
      "0.41 $\\pm$ 0.01 & 0.19 $\\pm$ 0.01 & 0.36 $\\pm$ 0.01 & 0.13 $\\pm$ 0.02 \\\\\n",
      "Forest_Cover & \n",
      "2.01 $\\pm$ 0.01 & 2.00 $\\pm$ 0.01 & 1.98 $\\pm$ 0.01 & 1.82 $\\pm$ 0.12 \\\\\n",
      "KDD99 & \n",
      "3.22 $\\pm$ 0.01 & 3.51 $\\pm$ 0.01 & 1.76 $\\pm$ 0.49 & 0.19 $\\pm$ 0.04 \\\\\n",
      "Usedcarscatalog & \n",
      "1.03 $\\pm$ 0.01 & 1.17 $\\pm$ 0.01 & 1.01 $\\pm$ 0.01 & 0.83 $\\pm$ 0.04 \\\\\n"
     ]
    }
   ],
   "source": [
    "results = {}\n",
    "models = [\"resnet\", \"mlp\"]\n",
    "optims = [\"adagrad\", \"adam\"]\n",
    "bools = [\"False\", \"True\"]\n",
    "sizes = [\"32\", \"128\"]\n",
    "for size in sizes:\n",
    "    print(\"\\nsize: \" + size)\n",
    "    for model in models:\n",
    "        print(\"\\nmodel: \" + model)\n",
    "        for dir in os.listdir(\"results\"):\n",
    "            results[\"dir\"] = dict()\n",
    "            path = \"results/\" + dir\n",
    "            print(dir + \" & \")\n",
    "            files = os.listdir(path)\n",
    "\n",
    "\n",
    "\n",
    "\n",
    "            losses = {}\n",
    "            printing = \"\"\n",
    "            for b in bools:\n",
    "                for optim in optims:\n",
    "                    p = pathMaker(model,optim,size,b)\n",
    "                    if p in files:\n",
    "                        df = pd.read_csv(path + \"/\" + p)\n",
    "\n",
    "                        name = \"noRB\"\n",
    "                        if b == \"True\":\n",
    "                            name = \"RB\"\n",
    "                        losses[\"%s with %s\" % (optim, name)] = df.test\n",
    "\n",
    "                        std = np.std(df.test)\n",
    "                        meanTest = np.mean(df.test)\n",
    "                        # print(\"model:%s optim:%s rb:%s: %2.2f +- %2.2f\" % (model, optim, b, meanTest, std))\n",
    "                        txt = \"%2.2f $\\pm$ %2.2f & \" % (meanTest, std)\n",
    "                        printing = printing + txt\n",
    "                        # print(txt)\n",
    "            printing = printing[:-2] + \"\\\\\\\\\"\n",
    "            printing = printing.replace(\"0.00\", \"0.01\")\n",
    "            print(printing)\n",
    "                    "
   ]
  },
  {
   "cell_type": "code",
   "execution_count": null,
   "id": "f3b381ec",
   "metadata": {},
   "outputs": [],
   "source": []
  },
  {
   "cell_type": "code",
   "execution_count": null,
   "id": "3636a743",
   "metadata": {},
   "outputs": [],
   "source": []
  }
 ],
 "metadata": {
  "kernelspec": {
   "display_name": "Python 3",
   "language": "python",
   "name": "python3"
  },
  "language_info": {
   "codemirror_mode": {
    "name": "ipython",
    "version": 3
   },
   "file_extension": ".py",
   "mimetype": "text/x-python",
   "name": "python",
   "nbconvert_exporter": "python",
   "pygments_lexer": "ipython3",
   "version": "3.8.8"
  }
 },
 "nbformat": 4,
 "nbformat_minor": 5
}
