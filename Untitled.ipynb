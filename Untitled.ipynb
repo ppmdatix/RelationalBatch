{
 "cells": [
  {
   "cell_type": "code",
   "execution_count": 1,
   "id": "042c1183",
   "metadata": {},
   "outputs": [],
   "source": [
    "import pandas as pd\n",
    "import os\n",
    "import numpy as np"
   ]
  },
  {
   "cell_type": "code",
   "execution_count": 2,
   "id": "79ed3bc7",
   "metadata": {},
   "outputs": [],
   "source": [
    "def pathMaker(model, optim, boolean):\n",
    "    return \"model%swithOptimoo%s-epochs10-batch-size32-relational-batch%s.csv\" % (model, optim, boolean)"
   ]
  },
  {
   "cell_type": "code",
   "execution_count": 13,
   "id": "1fcaf79b",
   "metadata": {
    "scrolled": false
   },
   "outputs": [
    {
     "name": "stdout",
     "output_type": "stream",
     "text": [
      "Adult_Income\n",
      "0.38 +- 0.01 & 0.13 +- 0.01 & 0.30 +- 0.01 & 0.13 +- 0.01 & \n",
      "compas\n",
      "0.25 +- 0.01 & 0.06 +- 0.01 & 0.48 +- 0.01 & 0.04 +- 0.02 & \n",
      "Dont_Get_Kicked\n",
      "0.26 +- 0.01 & 0.13 +- 0.01 & 0.24 +- 0.01 & 0.11 +- 0.01 & \n",
      "Forest_Cover\n",
      "2.01 +- 0.01 & 1.09 +- 0.05 & 2.02 +- 0.01 & 1.03 +- 0.01 & \n",
      "KDD99\n",
      "3.10 +- 0.01 & 0.07 +- 0.01 & 3.27 +- 0.01 & 0.06 +- 0.01 & \n",
      "Usedcarscatalog\n",
      "1.18 +- 0.01 & 0.74 +- 0.01 & 1.06 +- 0.01 & 0.73 +- 0.01 & \n"
     ]
    }
   ],
   "source": [
    "results = {}\n",
    "for dir in os.listdir(\"results\"):\n",
    "    results[\"dir\"] = dict()\n",
    "    path = \"results/\" + dir\n",
    "    print(dir)\n",
    "    files = os.listdir(path)\n",
    "    \n",
    "    \n",
    "    pathFalse = \"modelresnet-epochs10-batch-size128-relational-batchFalse.csv\"\n",
    "    pathTrue = \"modelresnet-epochs10-batch-size128-relational-batchTrue.csv\"\n",
    "    model = \"resnet\"\n",
    "    optims = [\"adagrad\", \"adam\"]\n",
    "    bools = [\"False\", \"True\"]\n",
    "    \n",
    "    losses = {}\n",
    "    printing = \"\"\n",
    "    for optim in optims:\n",
    "        for b in bools:\n",
    "            p = pathMaker(model,optim,b)\n",
    "            if p in files:\n",
    "                df = pd.read_csv(path + \"/\" + p)\n",
    "                \n",
    "                name = \"noRB\"\n",
    "                if b == \"True\":\n",
    "                    name = \"RB\"\n",
    "                losses[\"%s with %s\" % (optim, name)] = df.test\n",
    "                \n",
    "                std = np.std(df.test)\n",
    "                meanTest = np.mean(df.test)\n",
    "                # print(\"model:%s optim:%s rb:%s: %2.2f +- %2.2f\" % (model, optim, b, meanTest, std))\n",
    "                txt = \"%2.2f +- %2.2f & \" % (meanTest, std)\n",
    "                printing = printing + txt\n",
    "                # print(txt)\n",
    "    printing = printing.replace(\"0.00\", \"0.01\")\n",
    "    print(printing)\n",
    "    # box_plot(losses)\n",
    "#     for \n",
    "    \n",
    "#     if pathTrue in files and pathFalse in files:\n",
    "    \n",
    "#         dfTrue = pd.read_csv(path +\"/\" +  pathTrue)\n",
    "#         dfFalse = pd.read_csv(path +\"/\" + pathFalse)\n",
    "#         std = np.std(dfTrue.test)\n",
    "#         meanTest = np.mean(dfTrue.test)\n",
    "\n",
    "#         stdFalse = np.std(dfFalse.test)\n",
    "#         meanTestFalse = np.mean(dfFalse.test)\n",
    "\n",
    "#         print(\"True: %f +- %f\" % (meanTest, std))\n",
    "#         print(\"False: %f +- %f\" % (meanTestFalse, stdFalse))\n",
    "#         print()\n",
    "#     else:\n",
    "#         print(\"\")\n",
    "            "
   ]
  },
  {
   "cell_type": "code",
   "execution_count": null,
   "id": "f3b381ec",
   "metadata": {},
   "outputs": [],
   "source": []
  },
  {
   "cell_type": "code",
   "execution_count": null,
   "id": "3636a743",
   "metadata": {},
   "outputs": [],
   "source": []
  }
 ],
 "metadata": {
  "kernelspec": {
   "display_name": "Python 3",
   "language": "python",
   "name": "python3"
  },
  "language_info": {
   "codemirror_mode": {
    "name": "ipython",
    "version": 3
   },
   "file_extension": ".py",
   "mimetype": "text/x-python",
   "name": "python",
   "nbconvert_exporter": "python",
   "pygments_lexer": "ipython3",
   "version": "3.8.8"
  }
 },
 "nbformat": 4,
 "nbformat_minor": 5
}
