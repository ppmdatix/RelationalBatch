{
 "cells": [
  {
   "cell_type": "code",
   "execution_count": 50,
   "id": "042c1183",
   "metadata": {},
   "outputs": [],
   "source": [
    "import pandas as pd\n",
    "import os\n",
    "import numpy as np\n",
    "from matplotlib import pyplot as plt\n",
    "import matplotlib.colors as mcolors"
   ]
  },
  {
   "cell_type": "code",
   "execution_count": 51,
   "id": "79ed3bc7",
   "metadata": {},
   "outputs": [],
   "source": [
    "def pathMaker(model, optim, size,boolean):\n",
    "    return \"model%swithOptimoo%s-epochs10-batch-size%s-relational-batch%s.csv\" % (model, optim, size,boolean)"
   ]
  },
  {
   "cell_type": "code",
   "execution_count": 52,
   "id": "1fcaf79b",
   "metadata": {
    "scrolled": false
   },
   "outputs": [
    {
     "name": "stdout",
     "output_type": "stream",
     "text": [
      "['SGD', 'adagrad', 'adam']\n",
      "\n",
      "size: 1\n",
      "\n",
      "model: mlp\n",
      "\\textbf{ACI         } & 0.27 $\\pm$ 0.01 & \\textbf{0.19 $\\pm$ 0.02} & 1.43 $\\pm$ 0.01 & \\textbf{0.99 $\\pm$ 0.12} & 1.06 $\\pm$ 0.01 & \\textbf{0.21 $\\pm$ 0.14} \\\\\n",
      "\\textbf{compas      } & 0.48 $\\pm$ 0.01 & \\textbf{0.40 $\\pm$ 0.04} & 0.38 $\\pm$ 0.01 & \\textbf{0.36 $\\pm$ 0.01} & 0.88 $\\pm$ 0.01 & \\textbf{0.46 $\\pm$ 0.23} \\\\\n",
      "\\textbf{DGK         } & 0.20 $\\pm$ 0.01 & \\textbf{0.16 $\\pm$ 0.02} & 0.29 $\\pm$ 0.01 & \\textbf{0.25 $\\pm$ 0.01} & 0.16 $\\pm$ 0.01 & \\textbf{0.11 $\\pm$ 0.01} \\\\\n",
      "\\textbf{Forest Cover} & 1.99 $\\pm$ 0.01 & 1.99 $\\pm$ 0.01 & 1.96 $\\pm$ 0.01 & 1.95 $\\pm$ 0.01 & 2.00 $\\pm$ 0.01 & \\textbf{1.86 $\\pm$ 0.09} \\\\\n",
      "\\textbf{KDD99       } & 3.43 $\\pm$ 0.01 & \\textbf{0.16 $\\pm$ 0.01} & 3.26 $\\pm$ 0.01 & \\textbf{2.07 $\\pm$ 0.53} & 3.13 $\\pm$ 0.01 & \\textbf{0.22 $\\pm$ 0.03} \\\\\n",
      "\\textbf{Used Cars   } & 1.07 $\\pm$ 0.01 & \\textbf{1.02 $\\pm$ 0.01} & 1.09 $\\pm$ 0.01 & \\textbf{1.07 $\\pm$ 0.01} & 1.08 $\\pm$ 0.01 & \\textbf{0.81 $\\pm$ 0.05} \\\\\n",
      "\n",
      "size: 8\n",
      "\n",
      "model: mlp\n",
      "\\textbf{ACI         } & 0.70 $\\pm$ 0.01 & \\textbf{0.23 $\\pm$ 0.06} & 0.40 $\\pm$ 0.01 & \\textbf{0.30 $\\pm$ 0.04} & 1.41 $\\pm$ 0.01 & \\textbf{0.19 $\\pm$ 0.04} \\\\\n",
      "\\textbf{compas      } & 0.89 $\\pm$ 0.01 & \\textbf{0.61 $\\pm$ 0.12} & 0.27 $\\pm$ 0.01 & 0.26 $\\pm$ 0.01 & 0.27 $\\pm$ 0.01 & \\textbf{0.19 $\\pm$ 0.05} \\\\\n",
      "\\textbf{DGK         } & 0.21 $\\pm$ 0.01 & \\textbf{0.16 $\\pm$ 0.02} & 0.13 $\\pm$ 0.01 & 0.12 $\\pm$ 0.01 & 0.21 $\\pm$ 0.01 & \\textbf{0.12 $\\pm$ 0.01} \\\\\n",
      "\\textbf{Forest Cover} & 1.97 $\\pm$ 0.01 & 1.97 $\\pm$ 0.01 & 2.00 $\\pm$ 0.01 & 1.99 $\\pm$ 0.01 & 1.97 $\\pm$ 0.01 & \\textbf{1.86 $\\pm$ 0.07} \\\\\n",
      "\\textbf{KDD99       } & 3.24 $\\pm$ 0.01 & \\textbf{1.57 $\\pm$ 0.65} & 3.53 $\\pm$ 0.01 & \\textbf{2.44 $\\pm$ 0.53} & 3.41 $\\pm$ 0.01 & \\textbf{0.22 $\\pm$ 0.07} \\\\\n",
      "\\textbf{Used Cars   } & 1.12 $\\pm$ 0.01 & \\textbf{1.00 $\\pm$ 0.03} & 1.12 $\\pm$ 0.01 & \\textbf{1.03 $\\pm$ 0.03} & 0.98 $\\pm$ 0.01 & \\textbf{0.79 $\\pm$ 0.02} \\\\\n",
      "\n",
      "size: 32\n",
      "\n",
      "model: mlp\n",
      "\\textbf{ACI         } & 0.95 $\\pm$ 0.01 & \\textbf{0.29 $\\pm$ 0.14} & 1.22 $\\pm$ 0.01 & \\textbf{0.75 $\\pm$ 0.16} & 0.52 $\\pm$ 0.01 & \\textbf{0.15 $\\pm$ 0.01} \\\\\n",
      "\\textbf{compas      } & 1.17 $\\pm$ 0.01 & \\textbf{0.85 $\\pm$ 0.14} & 0.29 $\\pm$ 0.01 & 0.28 $\\pm$ 0.01 & 0.25 $\\pm$ 0.01 & \\textbf{0.19 $\\pm$ 0.04} \\\\\n",
      "\\textbf{DGK         } & 0.29 $\\pm$ 0.01 & \\textbf{0.18 $\\pm$ 0.04} & 0.18 $\\pm$ 0.01 & \\textbf{0.15 $\\pm$ 0.01} & 0.17 $\\pm$ 0.01 & \\textbf{0.11 $\\pm$ 0.01} \\\\\n",
      "\\textbf{Forest Cover} & 2.00 $\\pm$ 0.01 & 2.00 $\\pm$ 0.01 & 1.98 $\\pm$ 0.01 & 1.97 $\\pm$ 0.01 & 1.96 $\\pm$ 0.01 & \\textbf{1.88 $\\pm$ 0.07} \\\\\n",
      "\\textbf{KDD99       } & 2.97 $\\pm$ 0.01 & \\textbf{1.43 $\\pm$ 0.38} & 3.21 $\\pm$ 0.01 & \\textbf{2.00 $\\pm$ 0.62} & 3.22 $\\pm$ 0.01 & \\textbf{0.26 $\\pm$ 0.05} \\\\\n",
      "\\textbf{Used Cars   } & 1.25 $\\pm$ 0.01 & \\textbf{1.02 $\\pm$ 0.05} & 1.01 $\\pm$ 0.01 & \\textbf{0.97 $\\pm$ 0.01} & 1.05 $\\pm$ 0.01 & \\textbf{0.80 $\\pm$ 0.03} \\\\\n",
      "\n",
      "size: 128\n",
      "\n",
      "model: mlp\n",
      "\\textbf{ACI         } & 0.84 $\\pm$ 0.01 & \\textbf{0.27 $\\pm$ 0.12} & 1.58 $\\pm$ 0.01 & \\textbf{0.82 $\\pm$ 0.21} & 0.45 $\\pm$ 0.01 & \\textbf{0.15 $\\pm$ 0.01} \\\\\n",
      "\\textbf{compas      } & 0.50 $\\pm$ 0.01 & \\textbf{0.39 $\\pm$ 0.05} & 0.26 $\\pm$ 0.01 & \\textbf{0.24 $\\pm$ 0.01} & 0.28 $\\pm$ 0.01 & \\textbf{0.17 $\\pm$ 0.04} \\\\\n",
      "\\textbf{DGK         } & 0.19 $\\pm$ 0.01 & \\textbf{0.15 $\\pm$ 0.02} & 0.14 $\\pm$ 0.01 & \\textbf{0.12 $\\pm$ 0.01} & 0.16 $\\pm$ 0.01 & \\textbf{0.11 $\\pm$ 0.01} \\\\\n",
      "\\textbf{Forest Cover} & 1.97 $\\pm$ 0.01 & 1.97 $\\pm$ 0.01 & 1.96 $\\pm$ 0.01 & 1.95 $\\pm$ 0.01 & 1.98 $\\pm$ 0.01 & \\textbf{1.88 $\\pm$ 0.08} \\\\\n",
      "\\textbf{KDD99       } & 3.12 $\\pm$ 0.01 & \\textbf{1.82 $\\pm$ 0.38} & 3.18 $\\pm$ 0.01 & \\textbf{2.15 $\\pm$ 0.56} & 3.53 $\\pm$ 0.01 & \\textbf{0.18 $\\pm$ 0.04} \\\\\n",
      "\\textbf{Used Cars   } & 1.04 $\\pm$ 0.01 & \\textbf{1.01 $\\pm$ 0.01} & 1.02 $\\pm$ 0.01 & \\textbf{0.97 $\\pm$ 0.02} & 1.47 $\\pm$ 0.01 & \\textbf{0.85 $\\pm$ 0.08} \\\\\n"
     ]
    }
   ],
   "source": [
    "results = {}\n",
    "models = [\"mlp\"]#, \"resnet\"]\n",
    "optims = [\"SGD\",\"adagrad\", \"adam\"]\n",
    "bools = [\"False\", \"True\"]\n",
    "sizes = [\"1\", \"8\", \"32\", \"128\"]\n",
    "\n",
    "\n",
    "dirAbrv = {\n",
    "                \"Adult_Income\":    \"ACI         \", \n",
    "                \"compas\":          \"compas      \", \n",
    "                \"Dont_Get_Kicked\": \"DGK         \", \n",
    "                \"Forest_Cover\":    \"Forest Cover\", \n",
    "                \"KDD99\":           \"KDD99       \", \n",
    "                \"Usedcarscatalog\": \"Used Cars   \"}\n",
    "\n",
    "curve = dict()\n",
    "for directory in dirAbrv.keys():\n",
    "    curve[directory] = dict()\n",
    "    for model in models:\n",
    "        curve[directory][model] = dict()\n",
    "        for optim in optims:\n",
    "            curve[directory][model][optim] = dict()\n",
    "            for b in bools:\n",
    "                curve[directory][model][optim][b] = dict()\n",
    "    \n",
    "\n",
    "print(optims)\n",
    "for size in sizes:\n",
    "    print(\"\\nsize: \" + size)\n",
    "    for model in models:\n",
    "        print(\"\\nmodel: \" + model)\n",
    "        for dir in os.listdir(\"results\"):\n",
    "            if not(\".png\"  in dir):\n",
    "                results[\"dir\"] = dict()\n",
    "                path = \"results/\" + dir\n",
    "                files = os.listdir(path)\n",
    "\n",
    "                losses = {}\n",
    "                printing = \"\\\\textbf{\" + dirAbrv[dir] + \"} & \"\n",
    "                for optim in optims:\n",
    "                    txts = {}\n",
    "                    maxis = {}\n",
    "                    minis = {}\n",
    "                    for b in bools:\n",
    "                        p = pathMaker(model,optim,size,b)\n",
    "                        if p in files:\n",
    "                            df = pd.read_csv(path + \"/\" + p)\n",
    "\n",
    "                            name = \"noRB\"\n",
    "                            if b == \"True\":\n",
    "                                name = \"RB\"\n",
    "                            losses[\"%s with %s\" % (optim, name)] = df.test\n",
    "\n",
    "                            std = np.std(df.test)\n",
    "                            meanTest = np.mean(df.test)\n",
    "\n",
    "                            curve[dir][model][optim][b][size] = meanTest\n",
    "                            # print(\"model:%s optim:%s rb:%s: %2.2f +- %2.2f\" % (model, optim, b, meanTest, std))\n",
    "\n",
    "                            _maxi = meanTest + std\n",
    "                            _mini = meanTest - std - 0.01\n",
    "\n",
    "                            txt = \"%2.2f $\\pm$ %2.2f\" % (meanTest, std)\n",
    "                            txts[str(b)] = txt\n",
    "                            maxis[str(b)] = _maxi\n",
    "                            minis[str(b)] = _mini\n",
    "                    for b in bools:\n",
    "\n",
    "                            txt = txts[str(b)]\n",
    "                            if maxis[str(b)] < minis[str(not b)]:\n",
    "                                txt = \"\\\\textbf{\" + txt + \"}\"\n",
    "                            printing = printing + txt+ \" & \"\n",
    "                            # print(txt)\n",
    "                printing = printing[:-2] + \"\\\\\\\\\"\n",
    "                printing = printing.replace(\"0.00\", \"0.01\")\n",
    "                print(printing)\n",
    "                    "
   ]
  },
  {
   "cell_type": "code",
   "execution_count": 56,
   "id": "89e903bb",
   "metadata": {},
   "outputs": [],
   "source": [
    "def latext(model, batch, results):\n",
    "    return \\\n",
    "        \"\\\\begin{table}[h!]\" + \"\\n    \" + \\\n",
    "        \"\\\\caption{Results with \" + str(model) + \" and batch of \" + str(batch) + \"}\" + \"\\n    \" + \\\n",
    "        \"\\\\label{tab:results\" + str(model).upper() +str(batch)+ \"}\" + \"\\n    \" + \\\n",
    "        \"\\\\begin{footnotesize}\" + \"\\n    \" + \\\n",
    "        \"\\\\begin{center}\" + \"\\n    \" + \\\n",
    "        \"\\\\begin{tabular}{l|cc:cc:cc}\" + \"\\n    \" + \\\n",
    "        \"\\\\toprule\" + \"\\n    \" + \\\n",
    "        \"Dataset               &   SGD           & SGD \\\\& \\\\tecnameAbrv & Adagrad & Adagrad \\\\& \\\\tecnameAbrv & Adam        & Adam \\\\& \\\\tecnameAbrv \\\\\"+ \"\\n    \" + \\\n",
    "        \"\\\\midrule\" + \\\n",
    "        results  + \"\\n    \" + \\\n",
    "        \"\\\\bottomrule\"  + \"\\n    \" + \\\n",
    "        \"\\\\end{tabular}\" + \"\\n    \" + \\\n",
    "        \"\\\\end{center}\" + \"\\n    \" + \\\n",
    "        \"\\\\end{footnotesize}\" + \"\\n    \" + \\\n",
    "        \"\\\\end{table}\"\n",
    "\n"
   ]
  },
  {
   "cell_type": "code",
   "execution_count": 57,
   "id": "5f83cf14",
   "metadata": {},
   "outputs": [
    {
     "name": "stdout",
     "output_type": "stream",
     "text": [
      "\\begin{table}[h!]\n",
      "    \\caption{Results with mlp and batch of 128}\n",
      "    \\label{tab:resultsMLP128}\n",
      "    \\begin{footnotesize}\n",
      "    \\begin{center}\n",
      "    \\begin{tabular}{l|cc:cc:cc}\n",
      "    \\toprule\n",
      "    Dataset               &   SGD           & SGD \\& \\tecnameAbrv & Adagrad & Adagrad \\& \\tecnameAbrv & Adam        & Adam \\& \\tecnameAbrv \\\n",
      "    \\midrule\\textbf{Used Cars   } & 1.04 $\\pm$ 0.01 & \\textbf{1.01 $\\pm$ 0.01} & 1.02 $\\pm$ 0.01 & \\textbf{0.97 $\\pm$ 0.02} & 1.47 $\\pm$ 0.01 & \\textbf{0.85 $\\pm$ 0.08} \\\\\n",
      "    \\bottomrule\n",
      "    \\end{tabular}\n",
      "    \\end{center}\n",
      "    \\end{footnotesize}\n",
      "    \\end{table}\n"
     ]
    }
   ],
   "source": [
    "print(latext(\"mlp\", 128, printing))"
   ]
  },
  {
   "cell_type": "code",
   "execution_count": 29,
   "id": "a15d7558",
   "metadata": {},
   "outputs": [
    {
     "name": "stdout",
     "output_type": "stream",
     "text": [
      "\\begin{table}[h!]\n",
      "    \\caption{Results with ResNet and batch of 128}\n",
      "    \\label{tab:resultsRESNET128}\n",
      "    \\begin{footnotesize}\n",
      "    \\begin{center}\n",
      "    \\begin{tabular}{l|cc:cc:cc}\n",
      "    \\toprule\n",
      "    Dataset               &   SGD           & SGD \\& \tecnameAbrv & Adagrad & Adagrad \\& \tecnameAbrv & Adam        & Adam \\& \tecnameAbrv \\\n",
      "    \\midrule\n"
     ]
    }
   ],
   "source": [
    "print(test)"
   ]
  },
  {
   "cell_type": "code",
   "execution_count": null,
   "id": "97a17155",
   "metadata": {},
   "outputs": [],
   "source": []
  }
 ],
 "metadata": {
  "kernelspec": {
   "display_name": "Python 3",
   "language": "python",
   "name": "python3"
  },
  "language_info": {
   "codemirror_mode": {
    "name": "ipython",
    "version": 3
   },
   "file_extension": ".py",
   "mimetype": "text/x-python",
   "name": "python",
   "nbconvert_exporter": "python",
   "pygments_lexer": "ipython3",
   "version": "3.8.8"
  }
 },
 "nbformat": 4,
 "nbformat_minor": 5
}
